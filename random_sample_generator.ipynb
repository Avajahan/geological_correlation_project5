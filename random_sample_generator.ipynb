{
 "cells": [
  {
   "cell_type": "code",
   "execution_count": 19,
   "id": "2e1c54f9",
   "metadata": {},
   "outputs": [],
   "source": [
    "# script used to create the sample file to reduce the size of the dataset\n",
    "\n",
    "# Note: WILL NOT RUN unless you downloaded the \"global_data_50mLC2.txt\" dataset (>2 Gb)\n",
    "\n",
    "import numpy as np\n",
    "\n",
    "filename = \"global_data_50mLC2.txt\"\n",
    "# filename = \"data_cut\"  # for testing purposes\n",
    "sample_filename = \"data_sample\""
   ]
  },
  {
   "cell_type": "code",
   "execution_count": 11,
   "id": "ac96656a",
   "metadata": {},
   "outputs": [
    {
     "name": "stdout",
     "output_type": "stream",
     "text": [
      "50793962\n"
     ]
    }
   ],
   "source": [
    "# counting the number of lines in `filename`\n",
    "\n",
    "# open `filename` in read mode\n",
    "with open(filename, 'r') as f:   # using the context manager `with` makes it easier to keep track of opened files\n",
    "    for count, line in enumerate(f):  # using built-in function `enumerate` to count the lines one-by-one\n",
    "        pass\n",
    "    lines_number = count + 1\n",
    "    print(lines_number)"
   ]
  },
  {
   "cell_type": "code",
   "execution_count": 18,
   "id": "bb4ac467",
   "metadata": {},
   "outputs": [
    {
     "name": "stdout",
     "output_type": "stream",
     "text": [
      "[False False False ... False False False]\n"
     ]
    }
   ],
   "source": [
    "# Generate a list of random boolean values (at least as long as `filename`).\n",
    "# Will be used to randomly select lines of `filename`.\n",
    "\n",
    "p = 0.001  # probability of True value \n",
    "size = 60000000   # upper bound for the size of the file\n",
    "rand_bool = np.random.choice(a=[True, False], size=size, p=[p, 1-p])\n",
    "print(rand_bool)"
   ]
  },
  {
   "cell_type": "code",
   "execution_count": 20,
   "id": "b4c44ae7",
   "metadata": {},
   "outputs": [],
   "source": [
    "# generate the random sample file `sample_filename` from `filename`\n",
    "\n",
    "with open(filename, 'r') as full_f: # open `filename` as `full_f` in read mode\n",
    "    with open(sample_filename, 'w') as sample_f:  # open `sample_filename` as `sample_f` in mode `w` (overwrite file)\n",
    "        \n",
    "        # Plan: for each line in `full_file`, add it to `sample_file` if the corresponding value\n",
    "        #       in the list of random booleans is True. Skip it otherwise.\n",
    "        for count, line in enumerate(full_f):   # as for line_count, use enumerate() to keep track of line number\n",
    "            if rand_bool[count]:\n",
    "                sample_f.write(line)"
   ]
  },
  {
   "cell_type": "code",
   "execution_count": 17,
   "id": "9a85b492",
   "metadata": {},
   "outputs": [],
   "source": [
    "# A simple (inefficien) algoritm to sample 50/50:\n",
    "\n",
    "# import random\n",
    "\n",
    "# with open(filename, 'r') as full_f: # open `filename` as `full_f` in read mode\n",
    "#     with open(sample_filename, 'w') as sample_f:  # open `sample_filename` as `sample_f` in mode `w` (overwrite file)\n",
    "        \n",
    "#         for line in full_f:\n",
    "#             if random.choice([True, False]):\n",
    "#                 sample_f.write(line)"
   ]
  },
  {
   "cell_type": "code",
   "execution_count": null,
   "id": "a5840898",
   "metadata": {},
   "outputs": [],
   "source": []
  }
 ],
 "metadata": {
  "kernelspec": {
   "display_name": "Python 3 (ipykernel)",
   "language": "python",
   "name": "python3"
  },
  "language_info": {
   "codemirror_mode": {
    "name": "ipython",
    "version": 3
   },
   "file_extension": ".py",
   "mimetype": "text/x-python",
   "name": "python",
   "nbconvert_exporter": "python",
   "pygments_lexer": "ipython3",
   "version": "3.10.6"
  }
 },
 "nbformat": 4,
 "nbformat_minor": 5
}
